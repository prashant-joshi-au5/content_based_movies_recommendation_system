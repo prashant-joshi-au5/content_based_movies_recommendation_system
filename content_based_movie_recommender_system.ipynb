{
 "cells": [
  {
   "cell_type": "code",
   "execution_count": 3,
   "id": "721e6c20-2ce7-4420-b461-832242d1c93c",
   "metadata": {},
   "outputs": [],
   "source": [
    "import numpy as np\n",
    "import pandas as pd"
   ]
  },
  {
   "cell_type": "code",
   "execution_count": 213,
   "id": "54c57014-bfa0-4b8a-afb9-7423ccfa5b32",
   "metadata": {},
   "outputs": [
    {
     "data": {
      "text/html": [
       "<div>\n",
       "<style scoped>\n",
       "    .dataframe tbody tr th:only-of-type {\n",
       "        vertical-align: middle;\n",
       "    }\n",
       "\n",
       "    .dataframe tbody tr th {\n",
       "        vertical-align: top;\n",
       "    }\n",
       "\n",
       "    .dataframe thead th {\n",
       "        text-align: right;\n",
       "    }\n",
       "</style>\n",
       "<table border=\"1\" class=\"dataframe\">\n",
       "  <thead>\n",
       "    <tr style=\"text-align: right;\">\n",
       "      <th></th>\n",
       "      <th>Unnamed: 0</th>\n",
       "      <th>movie_id</th>\n",
       "      <th>movie_name</th>\n",
       "      <th>year</th>\n",
       "      <th>genre</th>\n",
       "      <th>overview</th>\n",
       "      <th>director</th>\n",
       "      <th>cast</th>\n",
       "    </tr>\n",
       "  </thead>\n",
       "  <tbody>\n",
       "    <tr>\n",
       "      <th>0</th>\n",
       "      <td>0</td>\n",
       "      <td>tt15354916</td>\n",
       "      <td>Jawan</td>\n",
       "      <td>2023</td>\n",
       "      <td>Action, Thriller</td>\n",
       "      <td>A high-octane action thriller which outlines t...</td>\n",
       "      <td>Atlee</td>\n",
       "      <td>Shah Rukh Khan, Nayanthara, Vijay Sethupathi, ...</td>\n",
       "    </tr>\n",
       "    <tr>\n",
       "      <th>1</th>\n",
       "      <td>1</td>\n",
       "      <td>tt15748830</td>\n",
       "      <td>Jaane Jaan</td>\n",
       "      <td>2023</td>\n",
       "      <td>Crime, Drama, Mystery</td>\n",
       "      <td>A single mother and her daughter who commit a ...</td>\n",
       "      <td>Sujoy Ghosh</td>\n",
       "      <td>Kareena Kapoor, Jaideep Ahlawat, Vijay Varma, ...</td>\n",
       "    </tr>\n",
       "    <tr>\n",
       "      <th>2</th>\n",
       "      <td>2</td>\n",
       "      <td>tt11663228</td>\n",
       "      <td>Jailer</td>\n",
       "      <td>2023</td>\n",
       "      <td>Action, Comedy, Crime</td>\n",
       "      <td>A retired jailer goes on a manhunt to find his...</td>\n",
       "      <td>Nelson Dilipkumar</td>\n",
       "      <td>Rajinikanth, Mohanlal, Shivarajkumar, Jackie S...</td>\n",
       "    </tr>\n",
       "    <tr>\n",
       "      <th>3</th>\n",
       "      <td>3</td>\n",
       "      <td>tt14993250</td>\n",
       "      <td>Rocky Aur Rani Kii Prem Kahaani</td>\n",
       "      <td>2023</td>\n",
       "      <td>Comedy, Drama, Family</td>\n",
       "      <td>Flamboyant Punjabi Rocky and intellectual Beng...</td>\n",
       "      <td>Karan Johar</td>\n",
       "      <td>Ranveer Singh, Alia Bhatt, Dharmendra, Shabana...</td>\n",
       "    </tr>\n",
       "    <tr>\n",
       "      <th>4</th>\n",
       "      <td>4</td>\n",
       "      <td>tt15732324</td>\n",
       "      <td>OMG 2</td>\n",
       "      <td>2023</td>\n",
       "      <td>Comedy, Drama</td>\n",
       "      <td>An unhappy civilian asks the court to mandate ...</td>\n",
       "      <td>Amit Rai</td>\n",
       "      <td>Pankaj Tripathi, Akshay Kumar, Yami Gautam, Pa...</td>\n",
       "    </tr>\n",
       "  </tbody>\n",
       "</table>\n",
       "</div>"
      ],
      "text/plain": [
       "   Unnamed: 0    movie_id                       movie_name  year  \\\n",
       "0           0  tt15354916                            Jawan  2023   \n",
       "1           1  tt15748830                       Jaane Jaan  2023   \n",
       "2           2  tt11663228                           Jailer  2023   \n",
       "3           3  tt14993250  Rocky Aur Rani Kii Prem Kahaani  2023   \n",
       "4           4  tt15732324                            OMG 2  2023   \n",
       "\n",
       "                   genre                                           overview  \\\n",
       "0       Action, Thriller  A high-octane action thriller which outlines t...   \n",
       "1  Crime, Drama, Mystery  A single mother and her daughter who commit a ...   \n",
       "2  Action, Comedy, Crime  A retired jailer goes on a manhunt to find his...   \n",
       "3  Comedy, Drama, Family  Flamboyant Punjabi Rocky and intellectual Beng...   \n",
       "4          Comedy, Drama  An unhappy civilian asks the court to mandate ...   \n",
       "\n",
       "            director                                               cast  \n",
       "0              Atlee  Shah Rukh Khan, Nayanthara, Vijay Sethupathi, ...  \n",
       "1        Sujoy Ghosh  Kareena Kapoor, Jaideep Ahlawat, Vijay Varma, ...  \n",
       "2  Nelson Dilipkumar  Rajinikanth, Mohanlal, Shivarajkumar, Jackie S...  \n",
       "3        Karan Johar  Ranveer Singh, Alia Bhatt, Dharmendra, Shabana...  \n",
       "4           Amit Rai  Pankaj Tripathi, Akshay Kumar, Yami Gautam, Pa...  "
      ]
     },
     "execution_count": 213,
     "metadata": {},
     "output_type": "execute_result"
    }
   ],
   "source": [
    "movies = pd.read_csv('machine learning projects/movie_recommender_system/MOVIES.csv')\n",
    "movies.head()"
   ]
  },
  {
   "cell_type": "code",
   "execution_count": 215,
   "id": "47f4fdb6-538f-498e-b1f5-6f387677338d",
   "metadata": {},
   "outputs": [],
   "source": [
    "movies = movies[['movie_id','movie_name','genre','overview','director','cast']]"
   ]
  },
  {
   "cell_type": "code",
   "execution_count": 221,
   "id": "bda9aae2-3f7f-4933-bcd6-61a6c6617ede",
   "metadata": {},
   "outputs": [],
   "source": [
    "# As one movie has multiple genre and which is in string format so we need to convert it as list\n",
    "movies['genre'] = movies['genre'].apply(lambda x:x.split(','))\n",
    "\n",
    "# As one movie has multiple cast and which is in string format so we need to convert it as list\n",
    "movies['cast'] = movies['cast'].apply(lambda x:x.split(','))\n",
    "\n",
    "# Director name is in string we need to change it in list\n",
    "movies['director'] = movies['director'].apply(lambda x:x.split(','))\n",
    "\n",
    "# overview needs to be converted into tags, so need to separate\n",
    "movies['overview'] = movies['overview'].apply(lambda x:x.split())"
   ]
  },
  {
   "cell_type": "code",
   "execution_count": 223,
   "id": "69100fef-efec-42b2-b7ab-67b723b8d7cc",
   "metadata": {},
   "outputs": [
    {
     "data": {
      "text/html": [
       "<div>\n",
       "<style scoped>\n",
       "    .dataframe tbody tr th:only-of-type {\n",
       "        vertical-align: middle;\n",
       "    }\n",
       "\n",
       "    .dataframe tbody tr th {\n",
       "        vertical-align: top;\n",
       "    }\n",
       "\n",
       "    .dataframe thead th {\n",
       "        text-align: right;\n",
       "    }\n",
       "</style>\n",
       "<table border=\"1\" class=\"dataframe\">\n",
       "  <thead>\n",
       "    <tr style=\"text-align: right;\">\n",
       "      <th></th>\n",
       "      <th>movie_id</th>\n",
       "      <th>movie_name</th>\n",
       "      <th>genre</th>\n",
       "      <th>overview</th>\n",
       "      <th>director</th>\n",
       "      <th>cast</th>\n",
       "    </tr>\n",
       "  </thead>\n",
       "  <tbody>\n",
       "    <tr>\n",
       "      <th>0</th>\n",
       "      <td>tt15354916</td>\n",
       "      <td>Jawan</td>\n",
       "      <td>[Action,  Thriller]</td>\n",
       "      <td>[A, high-octane, action, thriller, which, outl...</td>\n",
       "      <td>[Atlee]</td>\n",
       "      <td>[Shah Rukh Khan,  Nayanthara,  Vijay Sethupath...</td>\n",
       "    </tr>\n",
       "    <tr>\n",
       "      <th>1</th>\n",
       "      <td>tt15748830</td>\n",
       "      <td>Jaane Jaan</td>\n",
       "      <td>[Crime,  Drama,  Mystery]</td>\n",
       "      <td>[A, single, mother, and, her, daughter, who, c...</td>\n",
       "      <td>[Sujoy Ghosh]</td>\n",
       "      <td>[Kareena Kapoor,  Jaideep Ahlawat,  Vijay Varm...</td>\n",
       "    </tr>\n",
       "    <tr>\n",
       "      <th>2</th>\n",
       "      <td>tt11663228</td>\n",
       "      <td>Jailer</td>\n",
       "      <td>[Action,  Comedy,  Crime]</td>\n",
       "      <td>[A, retired, jailer, goes, on, a, manhunt, to,...</td>\n",
       "      <td>[Nelson Dilipkumar]</td>\n",
       "      <td>[Rajinikanth,  Mohanlal,  Shivarajkumar,  Jack...</td>\n",
       "    </tr>\n",
       "    <tr>\n",
       "      <th>3</th>\n",
       "      <td>tt14993250</td>\n",
       "      <td>Rocky Aur Rani Kii Prem Kahaani</td>\n",
       "      <td>[Comedy,  Drama,  Family]</td>\n",
       "      <td>[Flamboyant, Punjabi, Rocky, and, intellectual...</td>\n",
       "      <td>[Karan Johar]</td>\n",
       "      <td>[Ranveer Singh,  Alia Bhatt,  Dharmendra,  Sha...</td>\n",
       "    </tr>\n",
       "    <tr>\n",
       "      <th>4</th>\n",
       "      <td>tt15732324</td>\n",
       "      <td>OMG 2</td>\n",
       "      <td>[Comedy,  Drama]</td>\n",
       "      <td>[An, unhappy, civilian, asks, the, court, to, ...</td>\n",
       "      <td>[Amit Rai]</td>\n",
       "      <td>[Pankaj Tripathi,  Akshay Kumar,  Yami Gautam,...</td>\n",
       "    </tr>\n",
       "  </tbody>\n",
       "</table>\n",
       "</div>"
      ],
      "text/plain": [
       "     movie_id                       movie_name                      genre  \\\n",
       "0  tt15354916                            Jawan        [Action,  Thriller]   \n",
       "1  tt15748830                       Jaane Jaan  [Crime,  Drama,  Mystery]   \n",
       "2  tt11663228                           Jailer  [Action,  Comedy,  Crime]   \n",
       "3  tt14993250  Rocky Aur Rani Kii Prem Kahaani  [Comedy,  Drama,  Family]   \n",
       "4  tt15732324                            OMG 2           [Comedy,  Drama]   \n",
       "\n",
       "                                            overview             director  \\\n",
       "0  [A, high-octane, action, thriller, which, outl...              [Atlee]   \n",
       "1  [A, single, mother, and, her, daughter, who, c...        [Sujoy Ghosh]   \n",
       "2  [A, retired, jailer, goes, on, a, manhunt, to,...  [Nelson Dilipkumar]   \n",
       "3  [Flamboyant, Punjabi, Rocky, and, intellectual...        [Karan Johar]   \n",
       "4  [An, unhappy, civilian, asks, the, court, to, ...           [Amit Rai]   \n",
       "\n",
       "                                                cast  \n",
       "0  [Shah Rukh Khan,  Nayanthara,  Vijay Sethupath...  \n",
       "1  [Kareena Kapoor,  Jaideep Ahlawat,  Vijay Varm...  \n",
       "2  [Rajinikanth,  Mohanlal,  Shivarajkumar,  Jack...  \n",
       "3  [Ranveer Singh,  Alia Bhatt,  Dharmendra,  Sha...  \n",
       "4  [Pankaj Tripathi,  Akshay Kumar,  Yami Gautam,...  "
      ]
     },
     "execution_count": 223,
     "metadata": {},
     "output_type": "execute_result"
    }
   ],
   "source": [
    "movies.head()"
   ]
  },
  {
   "cell_type": "code",
   "execution_count": 225,
   "id": "07cbb8af-2172-483c-8505-b9f06f53be39",
   "metadata": {},
   "outputs": [],
   "source": [
    "movies['genre'] = movies['genre'].apply(lambda x:[i.replace(' ','') for i in x])"
   ]
  },
  {
   "cell_type": "code",
   "execution_count": 227,
   "id": "af2dccd1-770a-4d7e-8ac4-7488b599a172",
   "metadata": {},
   "outputs": [],
   "source": [
    "movies['overview'] = movies['overview'].apply(lambda x:[i.replace(' ','') for i in x])\n",
    "movies['director'] = movies['director'].apply(lambda x:[i.replace(' ','') for i in x])\n",
    "movies['cast'] = movies['cast'].apply(lambda x:[i.replace(' ','') for i in x])"
   ]
  },
  {
   "cell_type": "code",
   "execution_count": 229,
   "id": "af78b97a-0f01-4e52-9aee-3e1e42a48f97",
   "metadata": {},
   "outputs": [
    {
     "data": {
      "text/html": [
       "<div>\n",
       "<style scoped>\n",
       "    .dataframe tbody tr th:only-of-type {\n",
       "        vertical-align: middle;\n",
       "    }\n",
       "\n",
       "    .dataframe tbody tr th {\n",
       "        vertical-align: top;\n",
       "    }\n",
       "\n",
       "    .dataframe thead th {\n",
       "        text-align: right;\n",
       "    }\n",
       "</style>\n",
       "<table border=\"1\" class=\"dataframe\">\n",
       "  <thead>\n",
       "    <tr style=\"text-align: right;\">\n",
       "      <th></th>\n",
       "      <th>movie_id</th>\n",
       "      <th>movie_name</th>\n",
       "      <th>genre</th>\n",
       "      <th>overview</th>\n",
       "      <th>director</th>\n",
       "      <th>cast</th>\n",
       "    </tr>\n",
       "  </thead>\n",
       "  <tbody>\n",
       "    <tr>\n",
       "      <th>0</th>\n",
       "      <td>tt15354916</td>\n",
       "      <td>Jawan</td>\n",
       "      <td>[Action, Thriller]</td>\n",
       "      <td>[A, high-octane, action, thriller, which, outl...</td>\n",
       "      <td>[Atlee]</td>\n",
       "      <td>[ShahRukhKhan, Nayanthara, VijaySethupathi, De...</td>\n",
       "    </tr>\n",
       "    <tr>\n",
       "      <th>1</th>\n",
       "      <td>tt15748830</td>\n",
       "      <td>Jaane Jaan</td>\n",
       "      <td>[Crime, Drama, Mystery]</td>\n",
       "      <td>[A, single, mother, and, her, daughter, who, c...</td>\n",
       "      <td>[SujoyGhosh]</td>\n",
       "      <td>[KareenaKapoor, JaideepAhlawat, VijayVarma, Sa...</td>\n",
       "    </tr>\n",
       "    <tr>\n",
       "      <th>2</th>\n",
       "      <td>tt11663228</td>\n",
       "      <td>Jailer</td>\n",
       "      <td>[Action, Comedy, Crime]</td>\n",
       "      <td>[A, retired, jailer, goes, on, a, manhunt, to,...</td>\n",
       "      <td>[NelsonDilipkumar]</td>\n",
       "      <td>[Rajinikanth, Mohanlal, Shivarajkumar, JackieS...</td>\n",
       "    </tr>\n",
       "    <tr>\n",
       "      <th>3</th>\n",
       "      <td>tt14993250</td>\n",
       "      <td>Rocky Aur Rani Kii Prem Kahaani</td>\n",
       "      <td>[Comedy, Drama, Family]</td>\n",
       "      <td>[Flamboyant, Punjabi, Rocky, and, intellectual...</td>\n",
       "      <td>[KaranJohar]</td>\n",
       "      <td>[RanveerSingh, AliaBhatt, Dharmendra, ShabanaA...</td>\n",
       "    </tr>\n",
       "    <tr>\n",
       "      <th>4</th>\n",
       "      <td>tt15732324</td>\n",
       "      <td>OMG 2</td>\n",
       "      <td>[Comedy, Drama]</td>\n",
       "      <td>[An, unhappy, civilian, asks, the, court, to, ...</td>\n",
       "      <td>[AmitRai]</td>\n",
       "      <td>[PankajTripathi, AkshayKumar, YamiGautam, Pawa...</td>\n",
       "    </tr>\n",
       "  </tbody>\n",
       "</table>\n",
       "</div>"
      ],
      "text/plain": [
       "     movie_id                       movie_name                    genre  \\\n",
       "0  tt15354916                            Jawan       [Action, Thriller]   \n",
       "1  tt15748830                       Jaane Jaan  [Crime, Drama, Mystery]   \n",
       "2  tt11663228                           Jailer  [Action, Comedy, Crime]   \n",
       "3  tt14993250  Rocky Aur Rani Kii Prem Kahaani  [Comedy, Drama, Family]   \n",
       "4  tt15732324                            OMG 2          [Comedy, Drama]   \n",
       "\n",
       "                                            overview            director  \\\n",
       "0  [A, high-octane, action, thriller, which, outl...             [Atlee]   \n",
       "1  [A, single, mother, and, her, daughter, who, c...        [SujoyGhosh]   \n",
       "2  [A, retired, jailer, goes, on, a, manhunt, to,...  [NelsonDilipkumar]   \n",
       "3  [Flamboyant, Punjabi, Rocky, and, intellectual...        [KaranJohar]   \n",
       "4  [An, unhappy, civilian, asks, the, court, to, ...           [AmitRai]   \n",
       "\n",
       "                                                cast  \n",
       "0  [ShahRukhKhan, Nayanthara, VijaySethupathi, De...  \n",
       "1  [KareenaKapoor, JaideepAhlawat, VijayVarma, Sa...  \n",
       "2  [Rajinikanth, Mohanlal, Shivarajkumar, JackieS...  \n",
       "3  [RanveerSingh, AliaBhatt, Dharmendra, ShabanaA...  \n",
       "4  [PankajTripathi, AkshayKumar, YamiGautam, Pawa...  "
      ]
     },
     "execution_count": 229,
     "metadata": {},
     "output_type": "execute_result"
    }
   ],
   "source": [
    "movies.head()"
   ]
  },
  {
   "cell_type": "code",
   "execution_count": 231,
   "id": "e92d2d5a-c623-4b88-9179-45911a0b96af",
   "metadata": {},
   "outputs": [],
   "source": [
    "movies['tags'] = movies['genre'] + movies['cast'] + movies['director'] + movies['overview']"
   ]
  },
  {
   "cell_type": "code",
   "execution_count": 233,
   "id": "35f1e6d5-6ec6-4589-8348-a4c373a7a1ff",
   "metadata": {},
   "outputs": [
    {
     "data": {
      "text/html": [
       "<div>\n",
       "<style scoped>\n",
       "    .dataframe tbody tr th:only-of-type {\n",
       "        vertical-align: middle;\n",
       "    }\n",
       "\n",
       "    .dataframe tbody tr th {\n",
       "        vertical-align: top;\n",
       "    }\n",
       "\n",
       "    .dataframe thead th {\n",
       "        text-align: right;\n",
       "    }\n",
       "</style>\n",
       "<table border=\"1\" class=\"dataframe\">\n",
       "  <thead>\n",
       "    <tr style=\"text-align: right;\">\n",
       "      <th></th>\n",
       "      <th>movie_id</th>\n",
       "      <th>movie_name</th>\n",
       "      <th>genre</th>\n",
       "      <th>overview</th>\n",
       "      <th>director</th>\n",
       "      <th>cast</th>\n",
       "      <th>tags</th>\n",
       "    </tr>\n",
       "  </thead>\n",
       "  <tbody>\n",
       "    <tr>\n",
       "      <th>0</th>\n",
       "      <td>tt15354916</td>\n",
       "      <td>Jawan</td>\n",
       "      <td>[Action, Thriller]</td>\n",
       "      <td>[A, high-octane, action, thriller, which, outl...</td>\n",
       "      <td>[Atlee]</td>\n",
       "      <td>[ShahRukhKhan, Nayanthara, VijaySethupathi, De...</td>\n",
       "      <td>[Action, Thriller, ShahRukhKhan, Nayanthara, V...</td>\n",
       "    </tr>\n",
       "    <tr>\n",
       "      <th>1</th>\n",
       "      <td>tt15748830</td>\n",
       "      <td>Jaane Jaan</td>\n",
       "      <td>[Crime, Drama, Mystery]</td>\n",
       "      <td>[A, single, mother, and, her, daughter, who, c...</td>\n",
       "      <td>[SujoyGhosh]</td>\n",
       "      <td>[KareenaKapoor, JaideepAhlawat, VijayVarma, Sa...</td>\n",
       "      <td>[Crime, Drama, Mystery, KareenaKapoor, Jaideep...</td>\n",
       "    </tr>\n",
       "    <tr>\n",
       "      <th>2</th>\n",
       "      <td>tt11663228</td>\n",
       "      <td>Jailer</td>\n",
       "      <td>[Action, Comedy, Crime]</td>\n",
       "      <td>[A, retired, jailer, goes, on, a, manhunt, to,...</td>\n",
       "      <td>[NelsonDilipkumar]</td>\n",
       "      <td>[Rajinikanth, Mohanlal, Shivarajkumar, JackieS...</td>\n",
       "      <td>[Action, Comedy, Crime, Rajinikanth, Mohanlal,...</td>\n",
       "    </tr>\n",
       "    <tr>\n",
       "      <th>3</th>\n",
       "      <td>tt14993250</td>\n",
       "      <td>Rocky Aur Rani Kii Prem Kahaani</td>\n",
       "      <td>[Comedy, Drama, Family]</td>\n",
       "      <td>[Flamboyant, Punjabi, Rocky, and, intellectual...</td>\n",
       "      <td>[KaranJohar]</td>\n",
       "      <td>[RanveerSingh, AliaBhatt, Dharmendra, ShabanaA...</td>\n",
       "      <td>[Comedy, Drama, Family, RanveerSingh, AliaBhat...</td>\n",
       "    </tr>\n",
       "    <tr>\n",
       "      <th>4</th>\n",
       "      <td>tt15732324</td>\n",
       "      <td>OMG 2</td>\n",
       "      <td>[Comedy, Drama]</td>\n",
       "      <td>[An, unhappy, civilian, asks, the, court, to, ...</td>\n",
       "      <td>[AmitRai]</td>\n",
       "      <td>[PankajTripathi, AkshayKumar, YamiGautam, Pawa...</td>\n",
       "      <td>[Comedy, Drama, PankajTripathi, AkshayKumar, Y...</td>\n",
       "    </tr>\n",
       "  </tbody>\n",
       "</table>\n",
       "</div>"
      ],
      "text/plain": [
       "     movie_id                       movie_name                    genre  \\\n",
       "0  tt15354916                            Jawan       [Action, Thriller]   \n",
       "1  tt15748830                       Jaane Jaan  [Crime, Drama, Mystery]   \n",
       "2  tt11663228                           Jailer  [Action, Comedy, Crime]   \n",
       "3  tt14993250  Rocky Aur Rani Kii Prem Kahaani  [Comedy, Drama, Family]   \n",
       "4  tt15732324                            OMG 2          [Comedy, Drama]   \n",
       "\n",
       "                                            overview            director  \\\n",
       "0  [A, high-octane, action, thriller, which, outl...             [Atlee]   \n",
       "1  [A, single, mother, and, her, daughter, who, c...        [SujoyGhosh]   \n",
       "2  [A, retired, jailer, goes, on, a, manhunt, to,...  [NelsonDilipkumar]   \n",
       "3  [Flamboyant, Punjabi, Rocky, and, intellectual...        [KaranJohar]   \n",
       "4  [An, unhappy, civilian, asks, the, court, to, ...           [AmitRai]   \n",
       "\n",
       "                                                cast  \\\n",
       "0  [ShahRukhKhan, Nayanthara, VijaySethupathi, De...   \n",
       "1  [KareenaKapoor, JaideepAhlawat, VijayVarma, Sa...   \n",
       "2  [Rajinikanth, Mohanlal, Shivarajkumar, JackieS...   \n",
       "3  [RanveerSingh, AliaBhatt, Dharmendra, ShabanaA...   \n",
       "4  [PankajTripathi, AkshayKumar, YamiGautam, Pawa...   \n",
       "\n",
       "                                                tags  \n",
       "0  [Action, Thriller, ShahRukhKhan, Nayanthara, V...  \n",
       "1  [Crime, Drama, Mystery, KareenaKapoor, Jaideep...  \n",
       "2  [Action, Comedy, Crime, Rajinikanth, Mohanlal,...  \n",
       "3  [Comedy, Drama, Family, RanveerSingh, AliaBhat...  \n",
       "4  [Comedy, Drama, PankajTripathi, AkshayKumar, Y...  "
      ]
     },
     "execution_count": 233,
     "metadata": {},
     "output_type": "execute_result"
    }
   ],
   "source": [
    "movies.head()"
   ]
  },
  {
   "cell_type": "code",
   "execution_count": 263,
   "id": "972d7e82-0546-42d7-9d11-4a61a5f7851a",
   "metadata": {},
   "outputs": [],
   "source": [
    "new_df = movies[['movie_id','movie_name','tags']]"
   ]
  },
  {
   "cell_type": "code",
   "execution_count": 265,
   "id": "a5f75855-fbeb-4411-990a-3fedc4db1eda",
   "metadata": {},
   "outputs": [
    {
     "data": {
      "text/html": [
       "<div>\n",
       "<style scoped>\n",
       "    .dataframe tbody tr th:only-of-type {\n",
       "        vertical-align: middle;\n",
       "    }\n",
       "\n",
       "    .dataframe tbody tr th {\n",
       "        vertical-align: top;\n",
       "    }\n",
       "\n",
       "    .dataframe thead th {\n",
       "        text-align: right;\n",
       "    }\n",
       "</style>\n",
       "<table border=\"1\" class=\"dataframe\">\n",
       "  <thead>\n",
       "    <tr style=\"text-align: right;\">\n",
       "      <th></th>\n",
       "      <th>movie_id</th>\n",
       "      <th>movie_name</th>\n",
       "      <th>tags</th>\n",
       "    </tr>\n",
       "  </thead>\n",
       "  <tbody>\n",
       "    <tr>\n",
       "      <th>0</th>\n",
       "      <td>tt15354916</td>\n",
       "      <td>Jawan</td>\n",
       "      <td>[Action, Thriller, ShahRukhKhan, Nayanthara, V...</td>\n",
       "    </tr>\n",
       "    <tr>\n",
       "      <th>1</th>\n",
       "      <td>tt15748830</td>\n",
       "      <td>Jaane Jaan</td>\n",
       "      <td>[Crime, Drama, Mystery, KareenaKapoor, Jaideep...</td>\n",
       "    </tr>\n",
       "    <tr>\n",
       "      <th>2</th>\n",
       "      <td>tt11663228</td>\n",
       "      <td>Jailer</td>\n",
       "      <td>[Action, Comedy, Crime, Rajinikanth, Mohanlal,...</td>\n",
       "    </tr>\n",
       "    <tr>\n",
       "      <th>3</th>\n",
       "      <td>tt14993250</td>\n",
       "      <td>Rocky Aur Rani Kii Prem Kahaani</td>\n",
       "      <td>[Comedy, Drama, Family, RanveerSingh, AliaBhat...</td>\n",
       "    </tr>\n",
       "    <tr>\n",
       "      <th>4</th>\n",
       "      <td>tt15732324</td>\n",
       "      <td>OMG 2</td>\n",
       "      <td>[Comedy, Drama, PankajTripathi, AkshayKumar, Y...</td>\n",
       "    </tr>\n",
       "  </tbody>\n",
       "</table>\n",
       "</div>"
      ],
      "text/plain": [
       "     movie_id                       movie_name  \\\n",
       "0  tt15354916                            Jawan   \n",
       "1  tt15748830                       Jaane Jaan   \n",
       "2  tt11663228                           Jailer   \n",
       "3  tt14993250  Rocky Aur Rani Kii Prem Kahaani   \n",
       "4  tt15732324                            OMG 2   \n",
       "\n",
       "                                                tags  \n",
       "0  [Action, Thriller, ShahRukhKhan, Nayanthara, V...  \n",
       "1  [Crime, Drama, Mystery, KareenaKapoor, Jaideep...  \n",
       "2  [Action, Comedy, Crime, Rajinikanth, Mohanlal,...  \n",
       "3  [Comedy, Drama, Family, RanveerSingh, AliaBhat...  \n",
       "4  [Comedy, Drama, PankajTripathi, AkshayKumar, Y...  "
      ]
     },
     "execution_count": 265,
     "metadata": {},
     "output_type": "execute_result"
    }
   ],
   "source": [
    "new_df.head()"
   ]
  },
  {
   "cell_type": "code",
   "execution_count": 267,
   "id": "e763faec-22d3-4c2f-88d1-d1490396f3e3",
   "metadata": {},
   "outputs": [
    {
     "name": "stderr",
     "output_type": "stream",
     "text": [
      "C:\\Users\\Prashant Joshi\\AppData\\Local\\Temp\\ipykernel_6948\\2266712157.py:1: SettingWithCopyWarning: \n",
      "A value is trying to be set on a copy of a slice from a DataFrame.\n",
      "Try using .loc[row_indexer,col_indexer] = value instead\n",
      "\n",
      "See the caveats in the documentation: https://pandas.pydata.org/pandas-docs/stable/user_guide/indexing.html#returning-a-view-versus-a-copy\n",
      "  new_df['tags'] = new_df['tags'].apply(lambda x:' '.join(x))\n"
     ]
    }
   ],
   "source": [
    "new_df['tags'] = new_df['tags'].apply(lambda x:' '.join(x))"
   ]
  },
  {
   "cell_type": "code",
   "execution_count": 269,
   "id": "e972e74d-8269-40c1-994d-e860d42ddbbb",
   "metadata": {},
   "outputs": [
    {
     "data": {
      "text/html": [
       "<div>\n",
       "<style scoped>\n",
       "    .dataframe tbody tr th:only-of-type {\n",
       "        vertical-align: middle;\n",
       "    }\n",
       "\n",
       "    .dataframe tbody tr th {\n",
       "        vertical-align: top;\n",
       "    }\n",
       "\n",
       "    .dataframe thead th {\n",
       "        text-align: right;\n",
       "    }\n",
       "</style>\n",
       "<table border=\"1\" class=\"dataframe\">\n",
       "  <thead>\n",
       "    <tr style=\"text-align: right;\">\n",
       "      <th></th>\n",
       "      <th>movie_id</th>\n",
       "      <th>movie_name</th>\n",
       "      <th>tags</th>\n",
       "    </tr>\n",
       "  </thead>\n",
       "  <tbody>\n",
       "    <tr>\n",
       "      <th>0</th>\n",
       "      <td>tt15354916</td>\n",
       "      <td>Jawan</td>\n",
       "      <td>Action Thriller ShahRukhKhan Nayanthara VijayS...</td>\n",
       "    </tr>\n",
       "    <tr>\n",
       "      <th>1</th>\n",
       "      <td>tt15748830</td>\n",
       "      <td>Jaane Jaan</td>\n",
       "      <td>Crime Drama Mystery KareenaKapoor JaideepAhlaw...</td>\n",
       "    </tr>\n",
       "    <tr>\n",
       "      <th>2</th>\n",
       "      <td>tt11663228</td>\n",
       "      <td>Jailer</td>\n",
       "      <td>Action Comedy Crime Rajinikanth Mohanlal Shiva...</td>\n",
       "    </tr>\n",
       "    <tr>\n",
       "      <th>3</th>\n",
       "      <td>tt14993250</td>\n",
       "      <td>Rocky Aur Rani Kii Prem Kahaani</td>\n",
       "      <td>Comedy Drama Family RanveerSingh AliaBhatt Dha...</td>\n",
       "    </tr>\n",
       "    <tr>\n",
       "      <th>4</th>\n",
       "      <td>tt15732324</td>\n",
       "      <td>OMG 2</td>\n",
       "      <td>Comedy Drama PankajTripathi AkshayKumar YamiGa...</td>\n",
       "    </tr>\n",
       "  </tbody>\n",
       "</table>\n",
       "</div>"
      ],
      "text/plain": [
       "     movie_id                       movie_name  \\\n",
       "0  tt15354916                            Jawan   \n",
       "1  tt15748830                       Jaane Jaan   \n",
       "2  tt11663228                           Jailer   \n",
       "3  tt14993250  Rocky Aur Rani Kii Prem Kahaani   \n",
       "4  tt15732324                            OMG 2   \n",
       "\n",
       "                                                tags  \n",
       "0  Action Thriller ShahRukhKhan Nayanthara VijayS...  \n",
       "1  Crime Drama Mystery KareenaKapoor JaideepAhlaw...  \n",
       "2  Action Comedy Crime Rajinikanth Mohanlal Shiva...  \n",
       "3  Comedy Drama Family RanveerSingh AliaBhatt Dha...  \n",
       "4  Comedy Drama PankajTripathi AkshayKumar YamiGa...  "
      ]
     },
     "execution_count": 269,
     "metadata": {},
     "output_type": "execute_result"
    }
   ],
   "source": [
    "new_df.head()"
   ]
  },
  {
   "cell_type": "code",
   "execution_count": 243,
   "id": "76b8484c-df3c-4f5f-a20b-eda2a61ee078",
   "metadata": {},
   "outputs": [
    {
     "data": {
      "text/plain": [
       "'Action Thriller ShahRukhKhan Nayanthara VijaySethupathi DeepikaPadukone Atlee A high-octane action thriller which outlines the emotional journey of a man who is set to rectify the wrongs in the society.'"
      ]
     },
     "execution_count": 243,
     "metadata": {},
     "output_type": "execute_result"
    }
   ],
   "source": [
    "new_df['tags'][0]"
   ]
  },
  {
   "cell_type": "code",
   "execution_count": 271,
   "id": "c9845ce1-4acb-4a6d-8196-4361cbf3d870",
   "metadata": {},
   "outputs": [
    {
     "name": "stderr",
     "output_type": "stream",
     "text": [
      "C:\\Users\\Prashant Joshi\\AppData\\Local\\Temp\\ipykernel_6948\\3214958533.py:1: SettingWithCopyWarning: \n",
      "A value is trying to be set on a copy of a slice from a DataFrame.\n",
      "Try using .loc[row_indexer,col_indexer] = value instead\n",
      "\n",
      "See the caveats in the documentation: https://pandas.pydata.org/pandas-docs/stable/user_guide/indexing.html#returning-a-view-versus-a-copy\n",
      "  new_df['tags'] = new_df['tags'].apply(lambda x:x.lower())\n"
     ]
    }
   ],
   "source": [
    "new_df['tags'] = new_df['tags'].apply(lambda x:x.lower())"
   ]
  },
  {
   "cell_type": "code",
   "execution_count": 273,
   "id": "dbd461a1-e2c1-4b44-9a98-9907dc6ed79a",
   "metadata": {},
   "outputs": [
    {
     "data": {
      "text/html": [
       "<div>\n",
       "<style scoped>\n",
       "    .dataframe tbody tr th:only-of-type {\n",
       "        vertical-align: middle;\n",
       "    }\n",
       "\n",
       "    .dataframe tbody tr th {\n",
       "        vertical-align: top;\n",
       "    }\n",
       "\n",
       "    .dataframe thead th {\n",
       "        text-align: right;\n",
       "    }\n",
       "</style>\n",
       "<table border=\"1\" class=\"dataframe\">\n",
       "  <thead>\n",
       "    <tr style=\"text-align: right;\">\n",
       "      <th></th>\n",
       "      <th>movie_id</th>\n",
       "      <th>movie_name</th>\n",
       "      <th>tags</th>\n",
       "    </tr>\n",
       "  </thead>\n",
       "  <tbody>\n",
       "    <tr>\n",
       "      <th>0</th>\n",
       "      <td>tt15354916</td>\n",
       "      <td>Jawan</td>\n",
       "      <td>action thriller shahrukhkhan nayanthara vijays...</td>\n",
       "    </tr>\n",
       "    <tr>\n",
       "      <th>1</th>\n",
       "      <td>tt15748830</td>\n",
       "      <td>Jaane Jaan</td>\n",
       "      <td>crime drama mystery kareenakapoor jaideepahlaw...</td>\n",
       "    </tr>\n",
       "    <tr>\n",
       "      <th>2</th>\n",
       "      <td>tt11663228</td>\n",
       "      <td>Jailer</td>\n",
       "      <td>action comedy crime rajinikanth mohanlal shiva...</td>\n",
       "    </tr>\n",
       "    <tr>\n",
       "      <th>3</th>\n",
       "      <td>tt14993250</td>\n",
       "      <td>Rocky Aur Rani Kii Prem Kahaani</td>\n",
       "      <td>comedy drama family ranveersingh aliabhatt dha...</td>\n",
       "    </tr>\n",
       "    <tr>\n",
       "      <th>4</th>\n",
       "      <td>tt15732324</td>\n",
       "      <td>OMG 2</td>\n",
       "      <td>comedy drama pankajtripathi akshaykumar yamiga...</td>\n",
       "    </tr>\n",
       "  </tbody>\n",
       "</table>\n",
       "</div>"
      ],
      "text/plain": [
       "     movie_id                       movie_name  \\\n",
       "0  tt15354916                            Jawan   \n",
       "1  tt15748830                       Jaane Jaan   \n",
       "2  tt11663228                           Jailer   \n",
       "3  tt14993250  Rocky Aur Rani Kii Prem Kahaani   \n",
       "4  tt15732324                            OMG 2   \n",
       "\n",
       "                                                tags  \n",
       "0  action thriller shahrukhkhan nayanthara vijays...  \n",
       "1  crime drama mystery kareenakapoor jaideepahlaw...  \n",
       "2  action comedy crime rajinikanth mohanlal shiva...  \n",
       "3  comedy drama family ranveersingh aliabhatt dha...  \n",
       "4  comedy drama pankajtripathi akshaykumar yamiga...  "
      ]
     },
     "execution_count": 273,
     "metadata": {},
     "output_type": "execute_result"
    }
   ],
   "source": [
    "new_df.head()"
   ]
  },
  {
   "cell_type": "code",
   "execution_count": 275,
   "id": "5596e3ea-79fa-4973-b487-0802a665e3a6",
   "metadata": {},
   "outputs": [],
   "source": [
    "from sklearn.feature_extraction.text import CountVectorizer\n",
    "cv = CountVectorizer(max_features=9999 , stop_words='english')"
   ]
  },
  {
   "cell_type": "code",
   "execution_count": 277,
   "id": "e6d785db-426d-44fe-9bbd-78b1c21e232e",
   "metadata": {},
   "outputs": [
    {
     "data": {
      "text/html": [
       "<div>\n",
       "<style scoped>\n",
       "    .dataframe tbody tr th:only-of-type {\n",
       "        vertical-align: middle;\n",
       "    }\n",
       "\n",
       "    .dataframe tbody tr th {\n",
       "        vertical-align: top;\n",
       "    }\n",
       "\n",
       "    .dataframe thead th {\n",
       "        text-align: right;\n",
       "    }\n",
       "</style>\n",
       "<table border=\"1\" class=\"dataframe\">\n",
       "  <thead>\n",
       "    <tr style=\"text-align: right;\">\n",
       "      <th></th>\n",
       "      <th>movie_id</th>\n",
       "      <th>movie_name</th>\n",
       "      <th>tags</th>\n",
       "    </tr>\n",
       "  </thead>\n",
       "  <tbody>\n",
       "    <tr>\n",
       "      <th>0</th>\n",
       "      <td>tt15354916</td>\n",
       "      <td>Jawan</td>\n",
       "      <td>action thriller shahrukhkhan nayanthara vijays...</td>\n",
       "    </tr>\n",
       "    <tr>\n",
       "      <th>1</th>\n",
       "      <td>tt15748830</td>\n",
       "      <td>Jaane Jaan</td>\n",
       "      <td>crime drama mystery kareenakapoor jaideepahlaw...</td>\n",
       "    </tr>\n",
       "    <tr>\n",
       "      <th>2</th>\n",
       "      <td>tt11663228</td>\n",
       "      <td>Jailer</td>\n",
       "      <td>action comedy crime rajinikanth mohanlal shiva...</td>\n",
       "    </tr>\n",
       "    <tr>\n",
       "      <th>3</th>\n",
       "      <td>tt14993250</td>\n",
       "      <td>Rocky Aur Rani Kii Prem Kahaani</td>\n",
       "      <td>comedy drama family ranveersingh aliabhatt dha...</td>\n",
       "    </tr>\n",
       "    <tr>\n",
       "      <th>4</th>\n",
       "      <td>tt15732324</td>\n",
       "      <td>OMG 2</td>\n",
       "      <td>comedy drama pankajtripathi akshaykumar yamiga...</td>\n",
       "    </tr>\n",
       "  </tbody>\n",
       "</table>\n",
       "</div>"
      ],
      "text/plain": [
       "     movie_id                       movie_name  \\\n",
       "0  tt15354916                            Jawan   \n",
       "1  tt15748830                       Jaane Jaan   \n",
       "2  tt11663228                           Jailer   \n",
       "3  tt14993250  Rocky Aur Rani Kii Prem Kahaani   \n",
       "4  tt15732324                            OMG 2   \n",
       "\n",
       "                                                tags  \n",
       "0  action thriller shahrukhkhan nayanthara vijays...  \n",
       "1  crime drama mystery kareenakapoor jaideepahlaw...  \n",
       "2  action comedy crime rajinikanth mohanlal shiva...  \n",
       "3  comedy drama family ranveersingh aliabhatt dha...  \n",
       "4  comedy drama pankajtripathi akshaykumar yamiga...  "
      ]
     },
     "execution_count": 277,
     "metadata": {},
     "output_type": "execute_result"
    }
   ],
   "source": [
    "new_df.head()"
   ]
  },
  {
   "cell_type": "code",
   "execution_count": 279,
   "id": "92e9685a-4269-46a1-a3a8-66be062ff144",
   "metadata": {},
   "outputs": [],
   "source": [
    "import nltk\n",
    "from nltk.stem.porter import PorterStemmer\n",
    "ps = PorterStemmer()"
   ]
  },
  {
   "cell_type": "code",
   "execution_count": 281,
   "id": "80d2cf7f-c7d9-4b72-8f5b-b8b67cd77027",
   "metadata": {},
   "outputs": [
    {
     "data": {
      "text/html": [
       "<div>\n",
       "<style scoped>\n",
       "    .dataframe tbody tr th:only-of-type {\n",
       "        vertical-align: middle;\n",
       "    }\n",
       "\n",
       "    .dataframe tbody tr th {\n",
       "        vertical-align: top;\n",
       "    }\n",
       "\n",
       "    .dataframe thead th {\n",
       "        text-align: right;\n",
       "    }\n",
       "</style>\n",
       "<table border=\"1\" class=\"dataframe\">\n",
       "  <thead>\n",
       "    <tr style=\"text-align: right;\">\n",
       "      <th></th>\n",
       "      <th>movie_id</th>\n",
       "      <th>movie_name</th>\n",
       "      <th>tags</th>\n",
       "    </tr>\n",
       "  </thead>\n",
       "  <tbody>\n",
       "    <tr>\n",
       "      <th>0</th>\n",
       "      <td>tt15354916</td>\n",
       "      <td>Jawan</td>\n",
       "      <td>action thriller shahrukhkhan nayanthara vijays...</td>\n",
       "    </tr>\n",
       "    <tr>\n",
       "      <th>1</th>\n",
       "      <td>tt15748830</td>\n",
       "      <td>Jaane Jaan</td>\n",
       "      <td>crime drama mystery kareenakapoor jaideepahlaw...</td>\n",
       "    </tr>\n",
       "    <tr>\n",
       "      <th>2</th>\n",
       "      <td>tt11663228</td>\n",
       "      <td>Jailer</td>\n",
       "      <td>action comedy crime rajinikanth mohanlal shiva...</td>\n",
       "    </tr>\n",
       "    <tr>\n",
       "      <th>3</th>\n",
       "      <td>tt14993250</td>\n",
       "      <td>Rocky Aur Rani Kii Prem Kahaani</td>\n",
       "      <td>comedy drama family ranveersingh aliabhatt dha...</td>\n",
       "    </tr>\n",
       "    <tr>\n",
       "      <th>4</th>\n",
       "      <td>tt15732324</td>\n",
       "      <td>OMG 2</td>\n",
       "      <td>comedy drama pankajtripathi akshaykumar yamiga...</td>\n",
       "    </tr>\n",
       "  </tbody>\n",
       "</table>\n",
       "</div>"
      ],
      "text/plain": [
       "     movie_id                       movie_name  \\\n",
       "0  tt15354916                            Jawan   \n",
       "1  tt15748830                       Jaane Jaan   \n",
       "2  tt11663228                           Jailer   \n",
       "3  tt14993250  Rocky Aur Rani Kii Prem Kahaani   \n",
       "4  tt15732324                            OMG 2   \n",
       "\n",
       "                                                tags  \n",
       "0  action thriller shahrukhkhan nayanthara vijays...  \n",
       "1  crime drama mystery kareenakapoor jaideepahlaw...  \n",
       "2  action comedy crime rajinikanth mohanlal shiva...  \n",
       "3  comedy drama family ranveersingh aliabhatt dha...  \n",
       "4  comedy drama pankajtripathi akshaykumar yamiga...  "
      ]
     },
     "execution_count": 281,
     "metadata": {},
     "output_type": "execute_result"
    }
   ],
   "source": [
    "new_df.head()"
   ]
  },
  {
   "cell_type": "code",
   "execution_count": 297,
   "id": "5f96fea8-da9c-4d1e-ac61-60f420a0464d",
   "metadata": {},
   "outputs": [],
   "source": [
    "def stem(text):\n",
    "    y = []\n",
    "\n",
    "    for i in text.split():\n",
    "        y.append(ps.stem(i))\n",
    "\n",
    "    return ' '.join(y)"
   ]
  },
  {
   "cell_type": "code",
   "execution_count": 299,
   "id": "e9f91ba0-767f-4be9-8e9c-0cbd47df7551",
   "metadata": {},
   "outputs": [
    {
     "data": {
      "text/html": [
       "<div>\n",
       "<style scoped>\n",
       "    .dataframe tbody tr th:only-of-type {\n",
       "        vertical-align: middle;\n",
       "    }\n",
       "\n",
       "    .dataframe tbody tr th {\n",
       "        vertical-align: top;\n",
       "    }\n",
       "\n",
       "    .dataframe thead th {\n",
       "        text-align: right;\n",
       "    }\n",
       "</style>\n",
       "<table border=\"1\" class=\"dataframe\">\n",
       "  <thead>\n",
       "    <tr style=\"text-align: right;\">\n",
       "      <th></th>\n",
       "      <th>movie_id</th>\n",
       "      <th>movie_name</th>\n",
       "      <th>tags</th>\n",
       "    </tr>\n",
       "  </thead>\n",
       "  <tbody>\n",
       "    <tr>\n",
       "      <th>0</th>\n",
       "      <td>tt15354916</td>\n",
       "      <td>Jawan</td>\n",
       "      <td>action thriller shahrukhkhan nayanthara vijays...</td>\n",
       "    </tr>\n",
       "    <tr>\n",
       "      <th>1</th>\n",
       "      <td>tt15748830</td>\n",
       "      <td>Jaane Jaan</td>\n",
       "      <td>crime drama mystery kareenakapoor jaideepahlaw...</td>\n",
       "    </tr>\n",
       "    <tr>\n",
       "      <th>2</th>\n",
       "      <td>tt11663228</td>\n",
       "      <td>Jailer</td>\n",
       "      <td>action comedy crime rajinikanth mohanlal shiva...</td>\n",
       "    </tr>\n",
       "    <tr>\n",
       "      <th>3</th>\n",
       "      <td>tt14993250</td>\n",
       "      <td>Rocky Aur Rani Kii Prem Kahaani</td>\n",
       "      <td>comedy drama family ranveersingh aliabhatt dha...</td>\n",
       "    </tr>\n",
       "    <tr>\n",
       "      <th>4</th>\n",
       "      <td>tt15732324</td>\n",
       "      <td>OMG 2</td>\n",
       "      <td>comedy drama pankajtripathi akshaykumar yamiga...</td>\n",
       "    </tr>\n",
       "  </tbody>\n",
       "</table>\n",
       "</div>"
      ],
      "text/plain": [
       "     movie_id                       movie_name  \\\n",
       "0  tt15354916                            Jawan   \n",
       "1  tt15748830                       Jaane Jaan   \n",
       "2  tt11663228                           Jailer   \n",
       "3  tt14993250  Rocky Aur Rani Kii Prem Kahaani   \n",
       "4  tt15732324                            OMG 2   \n",
       "\n",
       "                                                tags  \n",
       "0  action thriller shahrukhkhan nayanthara vijays...  \n",
       "1  crime drama mystery kareenakapoor jaideepahlaw...  \n",
       "2  action comedy crime rajinikanth mohanlal shiva...  \n",
       "3  comedy drama family ranveersingh aliabhatt dha...  \n",
       "4  comedy drama pankajtripathi akshaykumar yamiga...  "
      ]
     },
     "execution_count": 299,
     "metadata": {},
     "output_type": "execute_result"
    }
   ],
   "source": [
    "new_df.head()"
   ]
  },
  {
   "cell_type": "code",
   "execution_count": 301,
   "id": "29e17ccf-2c55-4306-bd48-ce202a2f89f5",
   "metadata": {},
   "outputs": [],
   "source": [
    "vectors = cv.fit_transform(new_df['tags']).toarray()"
   ]
  },
  {
   "cell_type": "code",
   "execution_count": 305,
   "id": "08e5291a-e9fc-4aa4-a42f-cc112d94819b",
   "metadata": {},
   "outputs": [
    {
     "data": {
      "text/plain": [
       "array([[0, 0, 0, ..., 0, 0, 0],\n",
       "       [0, 0, 0, ..., 0, 0, 0],\n",
       "       [0, 0, 0, ..., 0, 0, 0],\n",
       "       ...,\n",
       "       [0, 0, 0, ..., 0, 0, 0],\n",
       "       [0, 0, 0, ..., 0, 0, 0],\n",
       "       [0, 0, 0, ..., 0, 0, 0]], dtype=int64)"
      ]
     },
     "execution_count": 305,
     "metadata": {},
     "output_type": "execute_result"
    }
   ],
   "source": [
    "vectors"
   ]
  },
  {
   "cell_type": "code",
   "execution_count": 307,
   "id": "6ab5ba9d-9593-43ca-af3f-2e59c770aa19",
   "metadata": {},
   "outputs": [
    {
     "data": {
      "text/plain": [
       "array(['000', '10', '100', ..., 'zubairkhan', 'zubeidaa', 'zuhu'],\n",
       "      dtype=object)"
      ]
     },
     "execution_count": 307,
     "metadata": {},
     "output_type": "execute_result"
    }
   ],
   "source": [
    "cv.get_feature_names_out()"
   ]
  },
  {
   "cell_type": "code",
   "execution_count": 309,
   "id": "57bb68c1-21b3-451e-ac98-0c8bc18233c2",
   "metadata": {},
   "outputs": [
    {
     "data": {
      "text/html": [
       "<div>\n",
       "<style scoped>\n",
       "    .dataframe tbody tr th:only-of-type {\n",
       "        vertical-align: middle;\n",
       "    }\n",
       "\n",
       "    .dataframe tbody tr th {\n",
       "        vertical-align: top;\n",
       "    }\n",
       "\n",
       "    .dataframe thead th {\n",
       "        text-align: right;\n",
       "    }\n",
       "</style>\n",
       "<table border=\"1\" class=\"dataframe\">\n",
       "  <thead>\n",
       "    <tr style=\"text-align: right;\">\n",
       "      <th></th>\n",
       "      <th>movie_id</th>\n",
       "      <th>movie_name</th>\n",
       "      <th>tags</th>\n",
       "    </tr>\n",
       "  </thead>\n",
       "  <tbody>\n",
       "    <tr>\n",
       "      <th>0</th>\n",
       "      <td>tt15354916</td>\n",
       "      <td>Jawan</td>\n",
       "      <td>action thriller shahrukhkhan nayanthara vijays...</td>\n",
       "    </tr>\n",
       "    <tr>\n",
       "      <th>1</th>\n",
       "      <td>tt15748830</td>\n",
       "      <td>Jaane Jaan</td>\n",
       "      <td>crime drama mystery kareenakapoor jaideepahlaw...</td>\n",
       "    </tr>\n",
       "    <tr>\n",
       "      <th>2</th>\n",
       "      <td>tt11663228</td>\n",
       "      <td>Jailer</td>\n",
       "      <td>action comedy crime rajinikanth mohanlal shiva...</td>\n",
       "    </tr>\n",
       "    <tr>\n",
       "      <th>3</th>\n",
       "      <td>tt14993250</td>\n",
       "      <td>Rocky Aur Rani Kii Prem Kahaani</td>\n",
       "      <td>comedy drama family ranveersingh aliabhatt dha...</td>\n",
       "    </tr>\n",
       "    <tr>\n",
       "      <th>4</th>\n",
       "      <td>tt15732324</td>\n",
       "      <td>OMG 2</td>\n",
       "      <td>comedy drama pankajtripathi akshaykumar yamiga...</td>\n",
       "    </tr>\n",
       "  </tbody>\n",
       "</table>\n",
       "</div>"
      ],
      "text/plain": [
       "     movie_id                       movie_name  \\\n",
       "0  tt15354916                            Jawan   \n",
       "1  tt15748830                       Jaane Jaan   \n",
       "2  tt11663228                           Jailer   \n",
       "3  tt14993250  Rocky Aur Rani Kii Prem Kahaani   \n",
       "4  tt15732324                            OMG 2   \n",
       "\n",
       "                                                tags  \n",
       "0  action thriller shahrukhkhan nayanthara vijays...  \n",
       "1  crime drama mystery kareenakapoor jaideepahlaw...  \n",
       "2  action comedy crime rajinikanth mohanlal shiva...  \n",
       "3  comedy drama family ranveersingh aliabhatt dha...  \n",
       "4  comedy drama pankajtripathi akshaykumar yamiga...  "
      ]
     },
     "execution_count": 309,
     "metadata": {},
     "output_type": "execute_result"
    }
   ],
   "source": [
    "new_df.head()"
   ]
  },
  {
   "cell_type": "code",
   "execution_count": 313,
   "id": "a670ce1d-46e5-48b6-8a94-766513578ca2",
   "metadata": {},
   "outputs": [
    {
     "name": "stderr",
     "output_type": "stream",
     "text": [
      "C:\\Users\\Prashant Joshi\\AppData\\Local\\Temp\\ipykernel_6948\\3213734980.py:1: SettingWithCopyWarning: \n",
      "A value is trying to be set on a copy of a slice from a DataFrame.\n",
      "Try using .loc[row_indexer,col_indexer] = value instead\n",
      "\n",
      "See the caveats in the documentation: https://pandas.pydata.org/pandas-docs/stable/user_guide/indexing.html#returning-a-view-versus-a-copy\n",
      "  new_df['tags'] = new_df['tags'].apply(stem)\n"
     ]
    }
   ],
   "source": [
    "new_df['tags'] = new_df['tags'].apply(stem)"
   ]
  },
  {
   "cell_type": "code",
   "execution_count": 315,
   "id": "45005d73-0377-4f97-ad00-e232b9308bd7",
   "metadata": {},
   "outputs": [
    {
     "data": {
      "text/html": [
       "<div>\n",
       "<style scoped>\n",
       "    .dataframe tbody tr th:only-of-type {\n",
       "        vertical-align: middle;\n",
       "    }\n",
       "\n",
       "    .dataframe tbody tr th {\n",
       "        vertical-align: top;\n",
       "    }\n",
       "\n",
       "    .dataframe thead th {\n",
       "        text-align: right;\n",
       "    }\n",
       "</style>\n",
       "<table border=\"1\" class=\"dataframe\">\n",
       "  <thead>\n",
       "    <tr style=\"text-align: right;\">\n",
       "      <th></th>\n",
       "      <th>movie_id</th>\n",
       "      <th>movie_name</th>\n",
       "      <th>tags</th>\n",
       "    </tr>\n",
       "  </thead>\n",
       "  <tbody>\n",
       "    <tr>\n",
       "      <th>0</th>\n",
       "      <td>tt15354916</td>\n",
       "      <td>Jawan</td>\n",
       "      <td>action thriller shahrukhkhan nayanthara vijays...</td>\n",
       "    </tr>\n",
       "    <tr>\n",
       "      <th>1</th>\n",
       "      <td>tt15748830</td>\n",
       "      <td>Jaane Jaan</td>\n",
       "      <td>crime drama mysteri kareenakapoor jaideepahlaw...</td>\n",
       "    </tr>\n",
       "    <tr>\n",
       "      <th>2</th>\n",
       "      <td>tt11663228</td>\n",
       "      <td>Jailer</td>\n",
       "      <td>action comedi crime rajinikanth mohanl shivara...</td>\n",
       "    </tr>\n",
       "    <tr>\n",
       "      <th>3</th>\n",
       "      <td>tt14993250</td>\n",
       "      <td>Rocky Aur Rani Kii Prem Kahaani</td>\n",
       "      <td>comedi drama famili ranveersingh aliabhatt dha...</td>\n",
       "    </tr>\n",
       "    <tr>\n",
       "      <th>4</th>\n",
       "      <td>tt15732324</td>\n",
       "      <td>OMG 2</td>\n",
       "      <td>comedi drama pankajtripathi akshaykumar yamiga...</td>\n",
       "    </tr>\n",
       "  </tbody>\n",
       "</table>\n",
       "</div>"
      ],
      "text/plain": [
       "     movie_id                       movie_name  \\\n",
       "0  tt15354916                            Jawan   \n",
       "1  tt15748830                       Jaane Jaan   \n",
       "2  tt11663228                           Jailer   \n",
       "3  tt14993250  Rocky Aur Rani Kii Prem Kahaani   \n",
       "4  tt15732324                            OMG 2   \n",
       "\n",
       "                                                tags  \n",
       "0  action thriller shahrukhkhan nayanthara vijays...  \n",
       "1  crime drama mysteri kareenakapoor jaideepahlaw...  \n",
       "2  action comedi crime rajinikanth mohanl shivara...  \n",
       "3  comedi drama famili ranveersingh aliabhatt dha...  \n",
       "4  comedi drama pankajtripathi akshaykumar yamiga...  "
      ]
     },
     "execution_count": 315,
     "metadata": {},
     "output_type": "execute_result"
    }
   ],
   "source": [
    "new_df.head()"
   ]
  },
  {
   "cell_type": "code",
   "execution_count": 317,
   "id": "d1e32db4-74e1-4bcb-8718-dcf250384de9",
   "metadata": {},
   "outputs": [],
   "source": [
    "from sklearn.metrics.pairwise import cosine_similarity"
   ]
  },
  {
   "cell_type": "code",
   "execution_count": 323,
   "id": "ec887f13-da2a-48ec-8fee-56caf53746ef",
   "metadata": {},
   "outputs": [],
   "source": [
    "similarity = cosine_similarity(vectors)"
   ]
  },
  {
   "cell_type": "code",
   "execution_count": 325,
   "id": "ba45c22f-5197-4128-a672-4c2e840cb182",
   "metadata": {},
   "outputs": [
    {
     "data": {
      "text/plain": [
       "array([1.        , 0.        , 0.09100315, ..., 0.        , 0.        ,\n",
       "       0.07968191])"
      ]
     },
     "execution_count": 325,
     "metadata": {},
     "output_type": "execute_result"
    }
   ],
   "source": [
    "similarity[0]"
   ]
  },
  {
   "cell_type": "code",
   "execution_count": 327,
   "id": "0c485098-bffc-4fe3-b7f1-835243940888",
   "metadata": {},
   "outputs": [],
   "source": [
    "def recommend(movie):\n",
    "    movie_index = new_df[new_df['movie_name'] == movie].index[0]\n",
    "    distances = similarity[movie_index]\n",
    "    movies_list = sorted(list(enumerate(distances)),reverse= True, key = lambda x:x[1])[1:6]\n",
    "\n",
    "    for i in movies_list:\n",
    "        print(new_df.iloc[i[0]].movie_name)"
   ]
  },
  {
   "cell_type": "code",
   "execution_count": 379,
   "id": "f30250d3-391b-4eb5-b5ac-a8a22eca2e9e",
   "metadata": {},
   "outputs": [
    {
     "name": "stdout",
     "output_type": "stream",
     "text": [
      "Chhichhore\n",
      "Dil Chahta Hai\n",
      "Ta Ra Rum Pum\n",
      "Mere Baap Pehle Aap\n",
      "Rang De Basanti\n"
     ]
    }
   ],
   "source": [
    "recommend('3 Idiots')"
   ]
  },
  {
   "cell_type": "code",
   "execution_count": 373,
   "id": "87b94309-8a6c-4f2e-b132-8419b5583eda",
   "metadata": {},
   "outputs": [],
   "source": []
  },
  {
   "cell_type": "code",
   "execution_count": null,
   "id": "3c8f7650-edf5-43c7-9b2f-bce9a331b9aa",
   "metadata": {},
   "outputs": [],
   "source": []
  }
 ],
 "metadata": {
  "kernelspec": {
   "display_name": "Python 3 (ipykernel)",
   "language": "python",
   "name": "python3"
  },
  "language_info": {
   "codemirror_mode": {
    "name": "ipython",
    "version": 3
   },
   "file_extension": ".py",
   "mimetype": "text/x-python",
   "name": "python",
   "nbconvert_exporter": "python",
   "pygments_lexer": "ipython3",
   "version": "3.12.4"
  }
 },
 "nbformat": 4,
 "nbformat_minor": 5
}
